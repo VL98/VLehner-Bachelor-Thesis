{
  "nbformat": 4,
  "nbformat_minor": 0,
  "metadata": {
    "colab": {
      "name": "EGP Run2",
      "provenance": [],
      "collapsed_sections": [
        "tfI9-BlUMDkV",
        "hw8HCsBjMGkq"
      ],
      "toc_visible": true,
      "machine_shape": "hm",
      "authorship_tag": "ABX9TyOFVkgRktooVyHXcoxLeqeT",
      "include_colab_link": true
    },
    "kernelspec": {
      "name": "ir",
      "display_name": "R"
    }
  },
  "cells": [
    {
      "cell_type": "markdown",
      "metadata": {
        "id": "view-in-github",
        "colab_type": "text"
      },
      "source": [
        "<a href=\"https://colab.research.google.com/github/VL98/VLehner-Bachelor-Thesis/blob/main/EGP_Run2.ipynb\" target=\"_parent\"><img src=\"https://colab.research.google.com/assets/colab-badge.svg\" alt=\"Open In Colab\"/></a>"
      ]
    },
    {
      "cell_type": "markdown",
      "metadata": {
        "id": "HMSZ6Zw_Lrvq"
      },
      "source": [
        "# EPG Calibration\n",
        "\n",
        "### Copyright Vinzenz Lehner (University of St. Gallen)"
      ]
    },
    {
      "cell_type": "markdown",
      "metadata": {
        "id": "tfI9-BlUMDkV"
      },
      "source": [
        "### Install packages"
      ]
    },
    {
      "cell_type": "code",
      "metadata": {
        "id": "2eOx5QuPL72V"
      },
      "source": [
        "#@title\n",
        "install.packages(\"ragtop\")\n",
        "install.packages(\"pracma\")\n",
        "install.packages(\"MASS\")\n",
        "install.packages(\"nloptr\")\n",
        "install.packages(\"NlcOptim\")\n",
        "install.packages(\"rootSolve\")\n",
        "install.packages(\"stats\")\n",
        "install.packages(\"parallel\")\n",
        "install.packages(\"timeDate\")\n",
        "install.packages(\"timeSeries\")"
      ],
      "execution_count": null,
      "outputs": []
    },
    {
      "cell_type": "markdown",
      "metadata": {
        "id": "hw8HCsBjMGkq"
      },
      "source": [
        "### Loading libraries and functions"
      ]
    },
    {
      "cell_type": "code",
      "metadata": {
        "id": "eaKNyEkJv6Me",
        "collapsed": true,
        "colab": {
          "base_uri": "https://localhost:8080/"
        },
        "outputId": "a9c0914c-2ce1-412b-ae2e-4dd6a1ba3c52"
      },
      "source": [
        "#@title\n",
        "library(ragtop)\n",
        "library(pracma)\n",
        "library(MASS)\n",
        "library(nloptr)\n",
        "library(NlcOptim)\n",
        "library(rootSolve)\n",
        "library(stats)\n",
        "library(parallel)\n",
        "library(timeDate)\n",
        "library(timeSeries)\n",
        "library(googledrive)\n",
        "library(futile.logger)\n",
        "library(limSolve)\n",
        "\n",
        "# library(foreach)\n",
        "# library(doParallel)\n",
        "# library(iterators)\n",
        "\n",
        "\n",
        "seed = set.seed(1004)\n",
        "# --------------------------------------------------\n",
        "\n",
        "\n",
        "# option <- read.csv(\"option15clean.csv\")\n",
        "# option <- read.csv(\"option10clean.csv\")\n",
        "\n",
        "# v = unique(option$date)\n",
        "n = 10^5\n",
        "# x_0 = read.csv(\"EGP_2010_Day1.csv\")$x\n",
        "# x_2 = as.numeric(x_2$x[2:12])\n",
        "\n",
        "# seed = set.seed(1004)\n",
        "# gnoise = rnorm(n*151) \n",
        "# sa = sample(1:(n*151))\n",
        "\n",
        "# --------------------------------------------------\n",
        "\n",
        "# DayNo = 30\n",
        "# date = v[DayNo]\n",
        "\n",
        "# n = 100000                ######### parameters of the model\n",
        "# t_size = option$date == date\n",
        "# date = date\n",
        "\n",
        "# rate = function(z){\n",
        "#   option[ option$date == date & option$TTM == z,  ]$interest[1]/(100*252)\n",
        "# }\n",
        "# d = unique(option$TTM[t_size])\n",
        "# d = unique(option$TTM)\n",
        "# r0 = median(sapply(d, rate))\n",
        "\n",
        "# ModelName = paste(\"EPG_Model_Day\", DayNo, \"_\", date,\".Rdata\",sep = \"\")\n",
        "\n",
        "# --------------------------------------------------\n",
        "\n",
        "\n",
        "scaler = function(x){\n",
        "  x/(10^ceil(log10(abs(x_0))))\n",
        "}\n",
        "\n",
        "rescaler = function(x){\n",
        "  x*(10^ceil(log10(abs(x_0))))\n",
        "}\n",
        "\n",
        "hin3 = function(x) {\n",
        "  x = rescaler(x)\n",
        "  h = numeric(1)\n",
        "  h[1] = x[2]*(x[4]+ 2)^2  + x[3] - 1 + 1e-15\n",
        "  return(h)\n",
        "}\n",
        "\n",
        "heq3 = function(x) {\n",
        "  x = rescaler(x)\n",
        "  h = numeric(2)\n",
        "  h[1] = x[10]*x[6] + (1-x[10])*x[7]\n",
        "  h[2] =  x[10]*(x[6]^2)  + (1-x[10])*(x[7]^2)  + x[10]*(x[8]^2) + (1-x[10])*(x[9]^2) - 1\n",
        "  return(h)\n",
        "}\n",
        "\n",
        "# --------------------------------------------------\n",
        "\n",
        "\n",
        "fN2 = function(x){\n",
        "  x = rescaler(x)\n",
        "  # n = 100000\n",
        "  set.seed(400)\n",
        "  # t_size = option$date == date\n",
        "  # date = date\n",
        "  om = x[1]\n",
        "  a = x[2]\n",
        "  b = x[3]\n",
        "  g = x[4]\n",
        "  l = 0\n",
        "  h_0 = x[5]\n",
        "  mu_1 = x[6]\n",
        "  mu_2 = x[7]\n",
        "  sd_1 = x[8]\n",
        "  sd_2 = x[9]\n",
        "  p = x[10]\n",
        "  E = p*mu_1  +  (1-p)*mu_2\n",
        "  \n",
        "  H = p*(mu_1^2)  + (1-p)*(mu_2^2)  + p*(sd_1^2) + (1-p)*(sd_2^2) - E^2\n",
        "  \n",
        "  ## M_1 = sqrt(1/H)*mu_1 - sqrt(1/H)*E\n",
        "  M_1 = mu_1                                  ###### real mu_1: there is a second option to incoroporate the constraint\n",
        "  ##  M_2 = sqrt(1/H)*mu_2 - sqrt(1/H)*E\n",
        "  M_2 = mu_2\n",
        "  ## S_1 = sd_1/sqrt(H)\n",
        "  S_1 = sd_1                              #### same with the variance\n",
        "  ## S_2 = sd_2/sqrt(H)\n",
        "  S_2 = sd_2    \n",
        "  # rate = function(z){option[ option$date == date & option$TTM == z,  ]$interest[1]/(100*252)}\n",
        "  \n",
        "\n",
        "  # d = unique(option$TTM[t_size])\n",
        "\n",
        "  \n",
        "  G = function(u , v,  mean = F){\n",
        "    \n",
        "    m = (0 + v) * mean\n",
        "    y = p*exp((m + sqrt(v)*M_1)*u  + (u^2)*(S_1^2)*v/2) +\n",
        "      (1-p)*exp((m + sqrt(v)*M_2)*u  + (u^2)*(S_2^2)*v/2) \n",
        "    return(y)\n",
        "  }\n",
        "  \n",
        "  #### either trading days or regular days\n",
        "  \n",
        "  psize = 1:round(p*n*151)\n",
        "  noise = c((M_1 + (sd_1)*gnoise[psize]),( M_2 + (sd_2)*gnoise[-psize]))[sa]\n",
        "  e = matrix(data = noise[1:(max(d)*n)], nrow = n, ncol = max(d))\n",
        "  \n",
        "  h =  matrix(data = 0, nrow = n, ncol = max(d))\n",
        "  \n",
        "  h[ ,1] = h_0\n",
        "  S = matrix(data = 0, nrow = n, ncol = max(d))\n",
        "  S[ ,1] = exp(sqrt(h[ ,1])*e[ ,1] - log(G(1, h[ ,1], F)))\n",
        "  \n",
        "  for(t in 2:(max(d))){   ### carefull with the e\n",
        "  # foreach(t=2:max(d), .combine=cbind) %dopar% {\n",
        "    \n",
        "    h[ , t] = om + a*(e[ ,t-1] - sqrt(h[ , t -1])*(l + g) - log(G(1, h[ , t-1], F))/sqrt(h[ , t -1]) )^2  + b*h[ ,t-1]\n",
        "    S[ , t] = S[ , t-1] * exp(sqrt(h[ ,t])*e[ ,t] - log(G(1, h[ ,t], F))) \n",
        "    S[ , t] =  S[ , t]/mean(S[ , t])\n",
        "  }\n",
        "  \n",
        "  ##y = option[t_size, c(3, 14, 18)]\n",
        "  ###3\n",
        "  A = function(y){ #######!!!!!!!! be careful with the indexes in the data set\n",
        "    y = as.numeric(y)\n",
        "    T_m = y[3]\n",
        "    S_0 = y[2] ### or futures price\n",
        "    # r = rate(T_m)\n",
        "    r = ratex[ d == T_m]\n",
        "    R = S[ , T_m] * S_0*exp(r*T_m) \n",
        "    K = y[1]\n",
        "    C = mean((R > K)*(R - K)*exp(-r*T_m))\n",
        "    IV = try( implied_volatilities(C, 1, S_0, K, r*252, T_m/252))\n",
        "    ifelse(class(IV) == \"try-error\"| is.na(IV), 4, IV)\n",
        "    # C\n",
        "  }\n",
        "  \n",
        "  # CP = apply(option[t_size, c(\"strike_price\", \"SPOT\", \"TTM\") ],1, A)\n",
        "  ##mean((CP - option$price[t_size])^2)\n",
        "  # mean((CP - option[t_size, \"own_impvol\"])^2)\n",
        "\n",
        "  prices.list <- split(option[t_size, c(\"strike_price\", \"SPOT\", \"TTM\")], seq(nrow(option[t_size, c(\"strike_price\", \"SPOT\", \"TTM\")])))\n",
        "  CP = mclapply(prices.list, A, mc.cores = mccores)\n",
        "  mean((unlist(CP) - option[t_size, \"own_impvol\"])^2)\n",
        "  \n",
        "}\n",
        "\n",
        "# --------------------------------------------------\n",
        "\n",
        "FN2_C_Final = function(x){\n",
        "  a = try(fN2(x))\n",
        "  ifelse(class(a)== \"try-error\"| is.na(a), 16, a)\n",
        "}\n",
        "# --------------------------------------------------\n",
        "\n",
        "# boundslow = c( 1e-12, 0, 0, -1500, 1e-12, -15, -15, 1e-12, 1e-12, 0, -20 ) \n",
        "# boundsup = c( 1, 1, 1, 1500, 1, 15, 15, 10, 20, 1, 20)\n",
        "\n",
        "#"
      ],
      "execution_count": null,
      "outputs": [
        {
          "output_type": "stream",
          "text": [
            "Loading required package: limSolve\n",
            "\n",
            "Loading required package: futile.logger\n",
            "\n",
            "Welcome to ragtop.  Logging can be enabled with commands such as\n",
            "  futile.logger::flog.threshold(futile.logger::INFO, name='ragtop.calibration')\n",
            "\n",
            "\n",
            "Attaching package: ‘rootSolve’\n",
            "\n",
            "\n",
            "The following objects are masked from ‘package:pracma’:\n",
            "\n",
            "    gradient, hessian\n",
            "\n",
            "\n"
          ],
          "name": "stderr"
        }
      ]
    },
    {
      "cell_type": "markdown",
      "metadata": {
        "id": "3Lkyoho4M2Ql"
      },
      "source": [
        "### Defining global variables"
      ]
    },
    {
      "cell_type": "code",
      "metadata": {
        "id": "8BKk7vTyBbQE"
      },
      "source": [
        "#@title\n",
        "# option <- read.csv(\"option15clean.csv\")\n",
        "mccores = 4\n",
        "\n",
        "year=19\n",
        "option_File = paste(\"option\",year,\"clean.csv\", sep = \"\")\n",
        "option <- read.csv(option_File)\n",
        "\n",
        "v = unique(option$date)\n",
        "# n = 10^5\n",
        "n=100000\n",
        "\n",
        "x_0 = read.csv(\"EGP_2019_Day1_x_0.csv\")$x\n",
        "# x_2 = as.numeric(x_2$x[2:12])\n",
        "\n",
        "seed = set.seed(1004)\n",
        "gnoise = rnorm(n*151) \n",
        "sa = sample(1:(n*151))\n",
        "\n",
        "# system.time(fN2(scaler(x_0)))\n",
        "# fN2(scaler(x_0))\n",
        "\n",
        "\n",
        "boundslow = c(1e-12, 0, 0, -1500, 1e-12, -15,  -15, 1e-12, 1e-12, 0) \n",
        "boundsup  = c(0.6, 0.6, 1, 1500, 1, 15, 15, 10, 20, 1)\n"
      ],
      "execution_count": null,
      "outputs": []
    },
    {
      "cell_type": "markdown",
      "metadata": {
        "id": "nxnKwjzxNGTT"
      },
      "source": [
        "### Executing calibration calculation"
      ]
    },
    {
      "cell_type": "code",
      "metadata": {
        "id": "PIYzxvBm1JbG"
      },
      "source": [
        "#@title\n",
        "\n",
        "for (DayNo in c(15, 20)) {\n",
        "  # DayNo = 30\n",
        "  date = v[DayNo]\n",
        "\n",
        "  # n = 100000                ######### parameters of the model\n",
        "  t_size = option$date == date\n",
        "\n",
        "  d = unique(option$TTM[t_size])\n",
        "  rate = function(z){\n",
        "    option[ option$date == date & option$TTM == z,  ]$interest[1]/(100*252)\n",
        "  }\n",
        "  ratex =  sapply(d, rate)\n",
        "  # d = unique(option$TTM)\n",
        "  r0 = median(ratex)\n",
        "  # print(ratex)\n",
        "  \n",
        "  spotprice = option[ option$date == date,  ]$SPOT[1]\n",
        "  EGPModelName = paste(\"EGP_Model_20\",year,\"_Day\", DayNo, \"_\", date,\".Rdata\",sep = \"\")\n",
        "  print(EGPModelName)\n",
        "\n",
        "  start = Sys.time()\n",
        "  EGP_Model = fmincon(scaler(x_0), FN2_C_Final, lb = scaler(boundslow), ub = scaler(boundsup), hin =  hin3, heq = heq3, tol = 1e-06 )\n",
        "\n",
        "  EGP_resacle = rescaler(EGP_Model$par)\n",
        "\n",
        "  dur = Sys.time() - start\n",
        "  print(dur) \n",
        "  # Model$par\n",
        "\n",
        "  save(EGP_Model, file = EGPModelName)\n",
        "}\n",
        "\n",
        "# mccores = 2\n",
        "# system.time(fN2(scaler(x_0)))\n",
        "# fN2(scaler(x_0))\n",
        "# scaler(Model$par)\n"
      ],
      "execution_count": null,
      "outputs": []
    }
  ]
}