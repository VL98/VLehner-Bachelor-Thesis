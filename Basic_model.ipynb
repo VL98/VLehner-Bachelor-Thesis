{
  "nbformat": 4,
  "nbformat_minor": 0,
  "metadata": {
    "colab": {
      "name": "Basic model",
      "provenance": [],
      "machine_shape": "hm",
      "authorship_tag": "ABX9TyN8ufx+VgjilN59rpW26+YU",
      "include_colab_link": true
    },
    "kernelspec": {
      "name": "ir",
      "display_name": "R"
    },
    "language_info": {
      "name": "R"
    },
    "accelerator": "GPU"
  },
  "cells": [
    {
      "cell_type": "markdown",
      "metadata": {
        "id": "view-in-github",
        "colab_type": "text"
      },
      "source": [
        "<a href=\"https://colab.research.google.com/github/VL98/VLehner-Bachelor-Thesis/blob/main/Basic_model.ipynb\" target=\"_parent\"><img src=\"https://colab.research.google.com/assets/colab-badge.svg\" alt=\"Open In Colab\"/></a>"
      ]
    },
    {
      "cell_type": "markdown",
      "metadata": {
        "id": "rsQsptdvmGJ2"
      },
      "source": [
        "# Basic Model"
      ]
    },
    {
      "cell_type": "markdown",
      "metadata": {
        "id": "NSU9wkjil8iD"
      },
      "source": [
        "### Loading libraries\n",
        "Initializing variables"
      ]
    },
    {
      "cell_type": "code",
      "metadata": {
        "id": "H5zGEH1WY-tQ"
      },
      "source": [
        "\n",
        "install.packages(c(\"nloptr\", \"rootSolve\", \"pracma\", \"NlcOptim\",\"parallel\", \"ragtop\"))\n",
        "\n",
        "library(ragtop)\n",
        "library(pracma)\n",
        "library(nloptr)\n",
        "library(NlcOptim)\n",
        "library(rootSolve)\n",
        "library(stats)\n",
        "library(parallel)\n",
        "option = read.csv(\"option15clean.csv\")\n",
        "v = unique(option$date)\n",
        "n = 10^5\n",
        "x_2 = read.csv(\"x2.csv\")$x\n",
        "x = x_2[1:5]"
      ],
      "execution_count": null,
      "outputs": []
    },
    {
      "cell_type": "code",
      "metadata": {
        "id": "pkLajsP0-Cjh"
      },
      "source": [
        "option = read.csv(\"option15clean.csv\")\n",
        "v = unique(option$date)\n",
        "n = 10^5\n",
        "x_2 = read.csv(\"x2.csv\")$x\n",
        "x = x_2[1:5]\n",
        "date = v[1]"
      ],
      "execution_count": null,
      "outputs": []
    },
    {
      "cell_type": "markdown",
      "metadata": {
        "id": "4zdbg6EnmX7W"
      },
      "source": [
        "### Function definitions \n",
        "\n",
        "Part I"
      ]
    },
    {
      "cell_type": "code",
      "metadata": {
        "id": "likKtrPMZGv2"
      },
      "source": [
        "HNGP = function (TypeFlag = c(\"c\", \"p\"), model, S, X, Time.inDays, \n",
        "          r.daily) {\n",
        "\n",
        "\n",
        "  .fstarHN = function (phi, const, model, S, X, Time.inDays, r.daily){\n",
        "    \n",
        "  lambda = -1/2\n",
        "  omega = model$omega\n",
        "  alpha = model$alpha\n",
        "  gamma = model$gamma \n",
        "  beta = model$beta\n",
        "  sigma2 = model$sigma2\n",
        "  cphi0 = phi * complex(real = 0, imaginary = 1)\n",
        "  cphi = cphi0 + const\n",
        "  a = cphi * r.daily\n",
        "  b = lambda * cphi + cphi * cphi/2\n",
        "  for (i in 2:Time.inDays) {\n",
        "    a = a + cphi * r.daily + b * omega - log(1 - 2 * alpha * \n",
        "                                               b)/2\n",
        "    b = cphi * (lambda + gamma) - gamma^2/2 + beta * b + \n",
        "      0.5 * (cphi - gamma)^2/(1 - 2 * alpha * b)\n",
        "  }\n",
        "  f = Re(exp(-cphi0 * log(X) + cphi * log(S) + a + b * sigma2)/cphi0)/pi\n",
        "  f\n",
        "}\n",
        "  TypeFlag = TypeFlag[1]\n",
        "  call1 = integrate(.fstarHN, 0, Inf, const = 1, model = model, subdivisions = 1000L,  \n",
        "                    S = S, X = X, Time.inDays = Time.inDays, r.daily = r.daily)\n",
        "  if (is.null(call1$value)) \n",
        "    call1$value = call1$integral\n",
        "  call2 = integrate(.fstarHN, 0, Inf, const = 0, model = model, subdivisions = 1000L,  \n",
        "                    S = S, X = X, Time.inDays = Time.inDays, r.daily = r.daily)\n",
        "  if (is.null(call2$value)) \n",
        "    call2$value = call2$integral\n",
        "  call.price = S/2 + exp(-r.daily * Time.inDays) * call1$value - \n",
        "    X * exp(-r.daily * Time.inDays) * (1/2 + call2$value)\n",
        "  price = NA\n",
        "  if (TypeFlag == \"c\") \n",
        "    price = call.price\n",
        "  if (TypeFlag == \"p\") \n",
        "    price = call.price + X * exp(-r.daily * Time.inDays) - \n",
        "    S\n",
        "  option = list(price = price, call = match.call())\n",
        "  class(option) = \"option\"\n",
        "  option\n",
        "}"
      ],
      "execution_count": null,
      "outputs": []
    },
    {
      "cell_type": "markdown",
      "metadata": {
        "id": "fZc5FyyamqLC"
      },
      "source": [
        "###Function defintion\n",
        "\n",
        "Part II"
      ]
    },
    {
      "cell_type": "code",
      "metadata": {
        "id": "kBBDSvfjaDf7"
      },
      "source": [
        "scaler = function(x){\n",
        "  y = x\n",
        "  y[1] = y[1]*1e07\n",
        "  y[2] = y[2]*1e06\n",
        "  y[3] = y[3] * 10\n",
        "  y[4] = y[4]/100\n",
        "  y[5] = y[5]* 10^3\n",
        "  y\n",
        "}\n",
        "\n",
        "rescaler = function(x){\n",
        "  y = x\n",
        "  y[1] = y[1]/1e07\n",
        "  y[2] = y[2]/1e06\n",
        "  y[3] = y[3] / 10\n",
        "  y[4] = y[4]*100\n",
        "  y[5] = y[5]/ 10^3\n",
        "  \n",
        "  y\n",
        "}\n",
        "\n",
        "fN1 = function(x){\n",
        " x = rescaler(x)\n",
        "  A = function(y, x) {\n",
        "    c = try(HNGP(TypeFlag = \"c\", model = list(omega = x[1], alpha = x[2], beta = x[3],\n",
        "                                          gamma = x[4], sigma2 = x[5]), S = y[2],\n",
        "             X = y[1], Time.inDays = y[3], r.daily =  y[4]/(100*252) )$price)\n",
        "   if(class(c) == \"try-error\"| is.na(c)){\n",
        "     ##return(sample(c(6,5), size = 1))\n",
        "     return(5)\n",
        "   }\n",
        "   else{\n",
        "    iv = try(implied_volatilities(c, 1, y[2], y[1], y[4]/100, y[3]/252))\n",
        "    ifelse(class(iv) == \"try-error\"| is.na(iv), 6, iv)\n",
        "   }\n",
        "  }\n",
        "\n",
        "  \n",
        "t_size =  option$date ==  date\n",
        "  CP = apply(option[t_size, c(\"strike_price\", \"SPOT\", \"TTM\", \"interest\") ],1, A, x = x)\n",
        "  \n",
        "  \n",
        "  \n",
        "  mean((CP - option$own_impvol[t_size])^2)\n",
        "}\n",
        "\n",
        "\n",
        "FN1_final= function(x){\n",
        "  a = try(fN1(x))\n",
        "  ifelse(class(a)== \"try-error\", 5, a)\n",
        "}\n",
        "\n",
        "\n",
        "hin3 = function(x) {\n",
        "  x = rescaler(x)\n",
        "  h = numeric(1)\n",
        "  h[1] = x[2]*(x[4])^2  + x[3] - 1 + 1e-15\n",
        "  return(h)\n",
        "}\n"
      ],
      "execution_count": null,
      "outputs": []
    },
    {
      "cell_type": "markdown",
      "metadata": {
        "id": "mLVyOUGHmwlB"
      },
      "source": [
        "### Function execution"
      ]
    },
    {
      "cell_type": "code",
      "metadata": {
        "id": "OMsAYdjh3Muz"
      },
      "source": [
        "boundslow = c(1e-20, 0, 0, -Inf, 1e-20) \n",
        "boundsup  = c(Inf, Inf, Inf, Inf, 1)\n",
        "\n",
        "start = Sys.time()\n",
        "Model = fmincon(scaler(x), FN1_final, lb = scaler(boundslow), ub = scaler(boundsup), hin =  hin3, tol = 1e-07 )\n",
        "Model$par = rescaler(Model$par)\n",
        "dur = Sys.time() - start\n"
      ],
      "execution_count": null,
      "outputs": []
    },
    {
      "cell_type": "code",
      "metadata": {
        "id": "skGBErZhAvWW"
      },
      "source": [
        "#hin3(scaler(x))\n",
        "i = 7\n",
        "HNGP(TypeFlag = \"c\", model = list(omega = x[1], alpha = x[2], beta = x[3],\n",
        "                                          gamma = x[4], sigma2 = x[5]), S = option$SPOT[i],\n",
        "             X = option$strike[i], Time.inDays = option$TTM[i], r.daily =  option$interest[i]/(100*252) )$price\n",
        "\n",
        "option$price[i]"
      ],
      "execution_count": null,
      "outputs": []
    },
    {
      "cell_type": "code",
      "metadata": {
        "id": "jrkVXR8kf1zJ"
      },
      "source": [
        "funcons2 = function(x) {\n",
        "  x = rescaler(x)\n",
        "  h = numeric(9)\n",
        "  h[1] = -x[2]*(x[4] )^2  + -x[3] + 1 - 1e-20\n",
        "  h[2] = x[2]\n",
        "  h[3] = x[3] \n",
        "  h[4] = x[1]  - 1e-20\n",
        "  h[5] = x[5] - 1e-20\n",
        "  \n",
        "  return(h)\n",
        "}\n",
        "\n",
        "\n",
        "\n",
        "start = Sys.time()\n",
        "Model = cobyla(x0 = scaler(x), fn  = FN1_final,  hin = funcons2, nl.info =  T,\n",
        "                control = list(xtol_rel = 1e-8, maxeval = 1000))\n",
        "dur = Sys.time() - start\n"
      ],
      "execution_count": null,
      "outputs": []
    },
    {
      "cell_type": "code",
      "metadata": {
        "id": "B_im-NNkjidL"
      },
      "source": [
        "FN1_final(x)\n",
        "scaler(x)"
      ],
      "execution_count": null,
      "outputs": []
    },
    {
      "cell_type": "code",
      "metadata": {
        "id": "MQ8F_--armmx"
      },
      "source": [
        "fN1R = function(x){\n",
        " \n",
        "  A = function(y, x) {\n",
        "    c = try(HNGP(TypeFlag = \"c\", model = list(omega = x[1], alpha = x[2], beta = x[3],\n",
        "                                          gamma = x[4], sigma2 = x[5]), S = y[2],\n",
        "             X = y[1], Time.inDays = y[3], r.daily =  y[4]/(100*252) )$price)\n",
        "   if(class(c) == \"try-error\"| is.na(c)){\n",
        "     ##return(sample(c(6,5), size = 1))\n",
        "     return(5)\n",
        "   }\n",
        "   else{\n",
        "    c\n",
        "   }\n",
        "  }\n",
        "\n",
        "  \n",
        "t_size =  option$date ==  date\n",
        "  CP = apply(option[t_size, c(\"strike_price\", \"SPOT\", \"TTM\", \"interest\") ],1, A, x = x)\n",
        "  \n",
        "  \n",
        "  \n",
        "  mean((CP - option$price[t_size])^2)\n",
        "}\n"
      ],
      "execution_count": null,
      "outputs": []
    },
    {
      "cell_type": "code",
      "metadata": {
        "id": "kId3z9DYsUzZ"
      },
      "source": [
        "fN1R(Model$par)\n",
        "\n",
        "x = Model$par"
      ],
      "execution_count": null,
      "outputs": []
    }
  ]
}